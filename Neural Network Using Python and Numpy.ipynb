{
 "cells": [
  {
   "cell_type": "raw",
   "metadata": {},
   "source": [
    "https://www.python-course.eu/neural_networks_with_python_numpy.php"
   ]
  },
  {
   "cell_type": "markdown",
   "metadata": {},
   "source": [
    "# Neural Network Using Python and Numpy"
   ]
  },
  {
   "cell_type": "code",
   "execution_count": 3,
   "metadata": {},
   "outputs": [
    {
     "data": {
      "text/html": [
       "<img src=\"https://www.python-course.eu/images/example_network_3_4_2_without_bias.png\" width=\"500\" height=\"300\"/>"
      ],
      "text/plain": [
       "<IPython.core.display.Image object>"
      ]
     },
     "execution_count": 3,
     "metadata": {},
     "output_type": "execute_result"
    }
   ],
   "source": [
    "from IPython.display import Image\n",
    "Image(url= \"https://www.python-course.eu/images/example_network_3_4_2_without_bias.png\", width=500, height=300)"
   ]
  },
  {
   "cell_type": "markdown",
   "metadata": {},
   "source": [
    "The input layer consists of the nodes i1, i2 and i3."
   ]
  },
  {
   "cell_type": "code",
   "execution_count": 2,
   "metadata": {},
   "outputs": [
    {
     "name": "stdout",
     "output_type": "stream",
     "text": [
      "[ 2  4 11]\n"
     ]
    }
   ],
   "source": [
    "import numpy as np\n",
    "input_vector = np.array([2, 4, 11])\n",
    "print(input_vector)"
   ]
  },
  {
   "cell_type": "markdown",
   "metadata": {},
   "source": [
    " We will have to transpose it into a column vector."
   ]
  },
  {
   "cell_type": "code",
   "execution_count": 3,
   "metadata": {},
   "outputs": [
    {
     "name": "stdout",
     "output_type": "stream",
     "text": [
      "[[ 2]\n",
      " [ 4]\n",
      " [11]] (3, 1)\n"
     ]
    }
   ],
   "source": [
    "import numpy as np\n",
    "input_vector = np.array([2, 4, 11])\n",
    "input_vector = np.array(input_vector, ndmin=2).T\n",
    "print(input_vector, input_vector.shape)"
   ]
  },
  {
   "cell_type": "markdown",
   "metadata": {},
   "source": [
    "Initializing the weight matrices"
   ]
  },
  {
   "cell_type": "code",
   "execution_count": 4,
   "metadata": {},
   "outputs": [
    {
     "name": "stdout",
     "output_type": "stream",
     "text": [
      "True\n"
     ]
    }
   ],
   "source": [
    "import numpy as np\n",
    "number_of_samples = 1200\n",
    "low = -1\n",
    "high = 0\n",
    "s = np.random.uniform(low, high, number_of_samples)\n",
    "# all values of s are within the half open interval [-1, 0) :\n",
    "print(np.all(s >= -1) and np.all(s < 0))"
   ]
  },
  {
   "cell_type": "code",
   "execution_count": 5,
   "metadata": {},
   "outputs": [
    {
     "data": {
      "image/png": "[encoded data removed]",
      "text/plain": [
       "<matplotlib.figure.Figure at 0x22a08e8f3c8>"
      ]
     },
     "metadata": {},
     "output_type": "display_data"
    }
   ],
   "source": [
    "import matplotlib.pyplot as plt\n",
    "plt.hist(s)\n",
    "plt.show()"
   ]
  },
  {
   "cell_type": "code",
   "execution_count": 6,
   "metadata": {},
   "outputs": [
    {
     "data": {
      "image/png": "[encoded data removed]",
      "text/plain": [
       "<matplotlib.figure.Figure at 0x22a090905c0>"
      ]
     },
     "metadata": {},
     "output_type": "display_data"
    }
   ],
   "source": [
    "s = np.random.binomial(100, 0.5, 1200)\n",
    "plt.hist(s)\n",
    "plt.show()"
   ]
  },
  {
   "cell_type": "code",
   "execution_count": 7,
   "metadata": {},
   "outputs": [
    {
     "data": {
      "image/png": "[encoded data removed]",
      "text/plain": [
       "<matplotlib.figure.Figure at 0x22a08286c88>"
      ]
     },
     "metadata": {},
     "output_type": "display_data"
    }
   ],
   "source": [
    "from scipy.stats import truncnorm\n",
    "s = truncnorm(a=-2/3., b=2/3., scale=1, loc=0).rvs(size=1000)\n",
    "plt.hist(s)\n",
    "plt.show()"
   ]
  },
  {
   "cell_type": "code",
   "execution_count": 8,
   "metadata": {},
   "outputs": [
    {
     "data": {
      "image/png": "[encoded data removed]",
      "text/plain": [
       "<matplotlib.figure.Figure at 0x22a09c09780>"
      ]
     },
     "metadata": {},
     "output_type": "display_data"
    }
   ],
   "source": [
    "def truncated_normal(mean=0, sd=1, low=0, upp=10):\n",
    "    return truncnorm(\n",
    "        (low - mean) / sd, (upp - mean) / sd, loc=mean, scale=sd)\n",
    "X = truncated_normal(mean=0, sd=0.4, low=-0.5, upp=0.5)\n",
    "s = X.rvs(10000)\n",
    "plt.hist(s)\n",
    "plt.show()"
   ]
  },
  {
   "cell_type": "code",
   "execution_count": 9,
   "metadata": {},
   "outputs": [
    {
     "data": {
      "image/png": "[encoded data removed]",
      "text/plain": [
       "<matplotlib.figure.Figure at 0x22a09c41be0>"
      ]
     },
     "metadata": {},
     "output_type": "display_data"
    }
   ],
   "source": [
    "X1 = truncated_normal(mean=2, sd=1, low=1, upp=10)\n",
    "X2 = truncated_normal(mean=5.5, sd=1, low=1, upp=10)\n",
    "X3 = truncated_normal(mean=8, sd=1, low=1, upp=10)\n",
    "import matplotlib.pyplot as plt\n",
    "fig, ax = plt.subplots(3, sharex=True)\n",
    "ax[0].hist(X1.rvs(10000), normed=True)\n",
    "ax[1].hist(X2.rvs(10000), normed=True)\n",
    "ax[2].hist(X3.rvs(10000), normed=True)\n",
    "plt.show()"
   ]
  },
  {
   "cell_type": "code",
   "execution_count": 10,
   "metadata": {},
   "outputs": [
    {
     "data": {
      "text/plain": [
       "array([[ 0.018103  ,  0.47107044,  0.4934066 ],\n",
       "       [ 0.41666486, -0.43688547,  0.25238342],\n",
       "       [ 0.34943415,  0.56420879,  0.55907494],\n",
       "       [-0.57396386,  0.42532833,  0.53006596]])"
      ]
     },
     "execution_count": 10,
     "metadata": {},
     "output_type": "execute_result"
    }
   ],
   "source": [
    "no_of_input_nodes = 3\n",
    "no_of_hidden_nodes = 4\n",
    "rad = 1 / np.sqrt(no_of_input_nodes)\n",
    "X = truncated_normal(mean=2, sd=1, low=-rad, upp=rad)\n",
    "wih = X.rvs((no_of_hidden_nodes, no_of_input_nodes))\n",
    "wih"
   ]
  },
  {
   "cell_type": "code",
   "execution_count": 11,
   "metadata": {},
   "outputs": [
    {
     "data": {
      "text/plain": [
       "array([[ 0.06320395,  0.14606457,  0.36185049,  0.24424042],\n",
       "       [-0.23044872, -0.05127439,  0.27303297,  0.37865376]])"
      ]
     },
     "execution_count": 11,
     "metadata": {},
     "output_type": "execute_result"
    }
   ],
   "source": [
    "no_of_hidden_nodes = 4\n",
    "no_of_output_nodes = 2\n",
    "rad = 1 / np.sqrt(no_of_hidden_nodes)  # this is the input in this layer!\n",
    "X = truncated_normal(mean=2, sd=1, low=-rad, upp=rad)\n",
    "who = X.rvs((no_of_output_nodes, no_of_hidden_nodes))\n",
    "who"
   ]
  },
  {
   "cell_type": "markdown",
   "metadata": {},
   "source": [
    "A Neural Network Class"
   ]
  },
  {
   "cell_type": "code",
   "execution_count": 12,
   "metadata": {},
   "outputs": [
    {
     "name": "stdout",
     "output_type": "stream",
     "text": [
      "[[-0.0307398  -0.33374199 -0.50760449]\n",
      " [ 0.16767309  0.38723345  0.29153026]\n",
      " [-0.3866472   0.13089187  0.08025632]\n",
      " [-0.15295215  0.35995999  0.42327471]]\n",
      "[[-0.07429961  0.29505172 -0.30090166 -0.12089711]\n",
      " [ 0.46724296 -0.25008355 -0.01829811 -0.01614957]]\n"
     ]
    }
   ],
   "source": [
    "import numpy as np\n",
    "class NeuralNetwork:\n",
    "    \n",
    "    def __init__(self, \n",
    "                 no_of_in_nodes, \n",
    "                 no_of_out_nodes, \n",
    "                 no_of_hidden_nodes,\n",
    "                 learning_rate):\n",
    "        self.no_of_in_nodes = no_of_in_nodes\n",
    "        self.no_of_out_nodes = no_of_out_nodes \n",
    "        self.no_of_hidden_nodes = no_of_hidden_nodes\n",
    "        self.learning_rate = learning_rate  \n",
    "        self.create_weight_matrices()\n",
    "        \n",
    "    def create_weight_matrices(self):\n",
    "        rad = 1 / np.sqrt(self.no_of_in_nodes)\n",
    "        X = truncated_normal(mean=0, sd=1, low=-rad, upp=rad)\n",
    "        self.weights_in_hidden = X.rvs((self.no_of_hidden_nodes, \n",
    "                                       self.no_of_in_nodes))\n",
    "        rad = 1 / np.sqrt(self.no_of_hidden_nodes)\n",
    "        X = truncated_normal(mean=0, sd=1, low=-rad, upp=rad)\n",
    "        self.weights_hidden_out = X.rvs((self.no_of_out_nodes, \n",
    "                                        self.no_of_hidden_nodes))\n",
    "             \n",
    "    \n",
    "    def train(self):\n",
    "        pass\n",
    "    \n",
    "    def run(self):\n",
    "        pass\n",
    "    \n",
    "    \n",
    "if __name__ == \"__main__\":\n",
    "    simple_network = NeuralNetwork(no_of_in_nodes = 3, \n",
    "                                   no_of_out_nodes = 2, \n",
    "                                   no_of_hidden_nodes = 4,\n",
    "                                   learning_rate = 0.1)\n",
    "    print(simple_network.weights_in_hidden)\n",
    "    print(simple_network.weights_hidden_out)"
   ]
  },
  {
   "cell_type": "markdown",
   "metadata": {},
   "source": [
    "Activation Functions, Sigmoid and ReLU"
   ]
  },
  {
   "cell_type": "code",
   "execution_count": 13,
   "metadata": {},
   "outputs": [
    {
     "data": {
      "image/png": "[encoded data removed]",
      "text/plain": [
       "<matplotlib.figure.Figure at 0x22a09e17f60>"
      ]
     },
     "metadata": {},
     "output_type": "display_data"
    }
   ],
   "source": [
    "import numpy as np\n",
    "import matplotlib.pyplot as plt\n",
    "def sigma(x):\n",
    "    return 1 / (1 + np.exp(-x))\n",
    "X = np.linspace(-5, 5, 100)\n",
    "plt.plot(X, sigma(X),'b')\n",
    "plt.xlabel('X Axis')\n",
    "plt.ylabel('Y Axis')\n",
    "plt.title('Sigmoid Function')\n",
    "plt.grid()\n",
    "plt.text(4, 0.9, r'$\\sigma(x)=\\frac{1}{1+e^{-x}}$', fontsize=16)\n",
    "plt.show()"
   ]
  },
  {
   "cell_type": "code",
   "execution_count": 14,
   "metadata": {},
   "outputs": [
    {
     "name": "stdout",
     "output_type": "stream",
     "text": [
      "0.967704535302\n",
      "[ 0.95257413  0.98201379  0.73105858]\n",
      "[ 0.68997448  0.90887704  0.99966465]\n"
     ]
    }
   ],
   "source": [
    "from scipy.special import expit\n",
    "print(expit(3.4))\n",
    "print(expit([3, 4, 1]))\n",
    "print(expit(np.array([0.8, 2.3, 8])))"
   ]
  },
  {
   "cell_type": "markdown",
   "metadata": {},
   "source": [
    "Adding a run Method"
   ]
  },
  {
   "cell_type": "code",
   "execution_count": 15,
   "metadata": {
    "collapsed": true
   },
   "outputs": [],
   "source": [
    "import numpy as np\n",
    "from scipy.special import expit as activation_function\n",
    "from scipy.stats import truncnorm\n",
    "def truncated_normal(mean=0, sd=1, low=0, upp=10):\n",
    "    return truncnorm(\n",
    "        (low - mean) / sd, (upp - mean) / sd, loc=mean, scale=sd)\n",
    "class NeuralNetwork:\n",
    "           \n",
    "    def __init__(self, \n",
    "                 no_of_in_nodes, \n",
    "                 no_of_out_nodes, \n",
    "                 no_of_hidden_nodes,\n",
    "                 learning_rate):\n",
    "        self.no_of_in_nodes = no_of_in_nodes\n",
    "        self.no_of_out_nodes = no_of_out_nodes\n",
    "        self.no_of_hidden_nodes = no_of_hidden_nodes\n",
    "        self.learning_rate = learning_rate \n",
    "        self.create_weight_matrices()\n",
    "        \n",
    "    def create_weight_matrices(self):\n",
    "        \"\"\" A method to initialize the weight matrices of the neural network\"\"\"\n",
    "        rad = 1 / np.sqrt(self.no_of_in_nodes)\n",
    "        X = truncated_normal(mean=0, sd=1, low=-rad, upp=rad)\n",
    "        self.weights_in_hidden = X.rvs((self.no_of_hidden_nodes, \n",
    "                                       self.no_of_in_nodes))\n",
    "        rad = 1 / np.sqrt(self.no_of_hidden_nodes)\n",
    "        X = truncated_normal(mean=0, sd=1, low=-rad, upp=rad)\n",
    "        self.weights_hidden_out = X.rvs((self.no_of_out_nodes, \n",
    "                                        self.no_of_hidden_nodes))\n",
    "    \n",
    "    \n",
    "    def train(self, input_vector, target_vector):\n",
    "        pass\n",
    "            \n",
    "    \n",
    "    def run(self, input_vector):\n",
    "        \"\"\"\n",
    "        running the network with an input vector input_vector. \n",
    "        input_vector can be tuple, list or ndarray\n",
    "        \"\"\"\n",
    "        \n",
    "        # turning the input vector into a column vector\n",
    "        input_vector = np.array(input_vector, ndmin=2).T\n",
    "        output_vector = np.dot(self.weights_in_hidden, input_vector)\n",
    "        output_vector = activation_function(output_vector)\n",
    "        \n",
    "        output_vector = np.dot(self.weights_hidden_out, output_vector)\n",
    "        output_vector = activation_function(output_vector)\n",
    "    \n",
    "        return output_vector"
   ]
  },
  {
   "cell_type": "code",
   "execution_count": 16,
   "metadata": {},
   "outputs": [
    {
     "data": {
      "text/plain": [
       "array([[ 0.43683896],\n",
       "       [ 0.60695799]])"
      ]
     },
     "execution_count": 16,
     "metadata": {},
     "output_type": "execute_result"
    }
   ],
   "source": [
    "simple_network = NeuralNetwork(no_of_in_nodes=2, \n",
    "                               no_of_out_nodes=2, \n",
    "                               no_of_hidden_nodes=10,\n",
    "                               learning_rate=0.6)\n",
    "simple_network.run([(3, 4)])"
   ]
  },
  {
   "cell_type": "code",
   "execution_count": 17,
   "metadata": {},
   "outputs": [
    {
     "data": {
      "text/plain": [
       "array([ 0.95257413,  0.98201379,  0.99330715])"
      ]
     },
     "execution_count": 17,
     "metadata": {},
     "output_type": "execute_result"
    }
   ],
   "source": [
    "@np.vectorize\n",
    "def sigmoid(x):\n",
    "    return 1 / (1 + np.e ** -x)\n",
    "#sigmoid = np.vectorize(sigmoid)\n",
    "sigmoid([3, 4, 5])"
   ]
  },
  {
   "cell_type": "code",
   "execution_count": 18,
   "metadata": {
    "collapsed": true
   },
   "outputs": [],
   "source": [
    "import numpy as np\n",
    "@np.vectorize\n",
    "def sigmoid(x):\n",
    "    return 1 / (1 + np.e ** -x)\n",
    "activation_function = sigmoid\n",
    "from scipy.stats import truncnorm\n",
    "def truncated_normal(mean=0, sd=1, low=0, upp=10):\n",
    "    return truncnorm(\n",
    "        (low - mean) / sd, (upp - mean) / sd, loc=mean, scale=sd)\n",
    "class NeuralNetwork:\n",
    "    \n",
    "    def __init__(self, \n",
    "                 no_of_in_nodes, \n",
    "                 no_of_out_nodes, \n",
    "                 no_of_hidden_nodes,\n",
    "                 learning_rate):\n",
    "        self.no_of_in_nodes = no_of_in_nodes\n",
    "        self.no_of_out_nodes = no_of_out_nodes\n",
    "        self.no_of_hidden_nodes = no_of_hidden_nodes\n",
    "        self.learning_rate = learning_rate \n",
    "        self.create_weight_matrices()\n",
    "        \n",
    "    def create_weight_matrices(self):\n",
    "        \"\"\" A method to initialize the weight matrices of the neural network\"\"\"\n",
    "        rad = 1 / np.sqrt(self.no_of_in_nodes)\n",
    "        X = truncated_normal(mean=0, sd=1, low=-rad, upp=rad)\n",
    "        self.weights_in_hidden = X.rvs((self.no_of_hidden_nodes, \n",
    "                                       self.no_of_in_nodes))\n",
    "        rad = 1 / np.sqrt(self.no_of_hidden_nodes)\n",
    "        X = truncated_normal(mean=0, sd=1, low=-rad, upp=rad)\n",
    "        self.weights_hidden_out = X.rvs((self.no_of_out_nodes, \n",
    "                                        self.no_of_hidden_nodes))\n",
    "        \n",
    "    \n",
    "    def train(self, input_vector, target_vector):\n",
    "        # input_vector and target_vector can be tuple, list or ndarray\n",
    "        \n",
    "        input_vector = np.array(input_vector, ndmin=2).T\n",
    "        target_vector = np.array(target_vector, ndmin=2).T\n",
    "        \n",
    "        output_vector1 = np.dot(self.weights_in_hidden, input_vector)\n",
    "        output_vector_hidden = activation_function(output_vector1)\n",
    "        \n",
    "        output_vector2 = np.dot(self.weights_hidden_out, output_vector_hidden)\n",
    "        output_vector_network = activation_function(output_vector2)\n",
    "        \n",
    "        output_errors = target_vector - output_vector_network\n",
    "        # update the weights:\n",
    "        tmp = output_errors * output_vector_network * (1.0 - output_vector_network)     \n",
    "        tmp = self.learning_rate  * np.dot(tmp, output_vector_hidden.T)\n",
    "        self.weights_hidden_out += tmp\n",
    "        # calculate hidden errors:\n",
    "        hidden_errors = np.dot(self.weights_hidden_out.T, output_errors)\n",
    "        # update the weights:\n",
    "        tmp = hidden_errors * output_vector_hidden * (1.0 - output_vector_hidden)\n",
    "        self.weights_in_hidden += self.learning_rate * np.dot(tmp, input_vector.T)\n",
    "           \n",
    "    \n",
    "    def run(self, input_vector):\n",
    "        # input_vector can be tuple, list or ndarray\n",
    "        input_vector = np.array(input_vector, ndmin=2).T\n",
    "        output_vector = np.dot(self.weights_in_hidden, input_vector)\n",
    "        output_vector = activation_function(output_vector)\n",
    "        \n",
    "        output_vector = np.dot(self.weights_hidden_out, output_vector)\n",
    "        output_vector = activation_function(output_vector)\n",
    "    \n",
    "        return output_vector"
   ]
  },
  {
   "cell_type": "code",
   "execution_count": 19,
   "metadata": {},
   "outputs": [
    {
     "data": {
      "image/png": "[encoded data removed]",
      "text/plain": [
       "<matplotlib.figure.Figure at 0x22a0ae67cf8>"
      ]
     },
     "metadata": {},
     "output_type": "display_data"
    }
   ],
   "source": [
    "import numpy as np\n",
    "from matplotlib import pyplot as plt\n",
    "data1 = [((3, 4), (0.99, 0.01)), ((4.2, 5.3), (0.99, 0.01)), \n",
    "         ((4, 3), (0.99, 0.01)), ((6, 5), (0.99, 0.01)), \n",
    "         ((4, 6), (0.99, 0.01)), ((3.7, 5.8), (0.99, 0.01)), \n",
    "         ((3.2, 4.6), (0.99, 0.01)), ((5.2, 5.9), (0.99, 0.01)), \n",
    "         ((5, 4), (0.99, 0.01)), ((7, 4), (0.99, 0.01)), \n",
    "         ((3, 7), (0.99, 0.01)), ((4.3, 4.3), (0.99, 0.01))]\n",
    "data2 = [((-3, -4), (0.01, 0.99)), ((-2, -3.5), (0.01, 0.99)), \n",
    "         ((-1, -6), (0.01, 0.99)), ((-3, -4.3), (0.01, 0.99)), \n",
    "         ((-4, -5.6), (0.01, 0.99)), ((-3.2, -4.8), (0.01, 0.99)), \n",
    "         ((-2.3, -4.3), (0.01, 0.99)), ((-2.7, -2.6), (0.01, 0.99)), \n",
    "         ((-1.5, -3.6), (0.01, 0.99)), ((-3.6, -5.6), (0.01, 0.99)), \n",
    "         ((-4.5, -4.6), (0.01, 0.99)), ((-3.7, -5.8), (0.01, 0.99))]\n",
    "data = data1 + data2\n",
    "np.random.shuffle(data)\n",
    "points1, labels1 = zip(*data1)\n",
    "X, Y = zip(*points1)\n",
    "plt.scatter(X, Y, c=\"r\")\n",
    "points2, labels2 = zip(*data2)\n",
    "X, Y = zip(*points2)\n",
    "plt.scatter(X, Y, c=\"b\")\n",
    "plt.show()"
   ]
  },
  {
   "cell_type": "code",
   "execution_count": 20,
   "metadata": {},
   "outputs": [
    {
     "name": "stdout",
     "output_type": "stream",
     "text": [
      "\n",
      "(5, 4) [ 0.78755345] [ 0.25480835]: class1 correct (0.99, 0.01)\n",
      "(-3.6, -5.6) [ 0.50050528] [ 0.49950157]: class2 incorrect (0.01, 0.99)\n",
      "(-2.7, -2.6) [ 0.50940431] [ 0.49033875]: class2 incorrect (0.01, 0.99)\n",
      "(4.2, 5.3) [ 0.78790362] [ 0.25423082]: class1 correct (0.99, 0.01)\n",
      "(-3, -4.3) [ 0.50200472] [ 0.49804077]: class2 incorrect (0.01, 0.99)\n",
      "(4, 6) [ 0.78802949] [ 0.25406007]: class1 correct (0.99, 0.01)\n",
      "(-3, -4) [ 0.50257121] [ 0.49744451]: class2 incorrect (0.01, 0.99)\n",
      "(4.3, 4.3) [ 0.78750872] [ 0.25477727]: class1 correct (0.99, 0.01)\n",
      "(6, 5) [ 0.78804349] [ 0.25411543]: class1 correct (0.99, 0.01)\n",
      "(-1, -6) [ 0.50140804] [ 0.49907556]: class2 incorrect (0.01, 0.99)\n",
      "(5.2, 5.9) [ 0.78810578] [ 0.2539963]: class1 correct (0.99, 0.01)\n",
      "(-1.5, -3.6) [ 0.50755071] [ 0.49379837]: class2 incorrect (0.01, 0.99)\n",
      "(-3.7, -5.8) [ 0.50040703] [ 0.49959752]: class2 incorrect (0.01, 0.99)\n",
      "(7, 4) [ 0.78793926] [ 0.25433688]: class1 correct (0.99, 0.01)\n",
      "(3, 7) [ 0.7880849] [ 0.25396574]: class1 correct (0.99, 0.01)\n",
      "(3, 4) [ 0.78650612] [ 0.25577151]: class1 correct (0.99, 0.01)\n",
      "(-2.3, -4.3) [ 0.50284359] [ 0.49748408]: class2 incorrect (0.01, 0.99)\n",
      "(-4.5, -4.6) [ 0.50076107] [ 0.49910869]: class2 incorrect (0.01, 0.99)\n",
      "(-4, -5.6) [ 0.50041554] [ 0.49956708]: class2 incorrect (0.01, 0.99)\n",
      "(3.2, 4.6) [ 0.78728105] [ 0.2548918]: class1 correct (0.99, 0.01)\n",
      "(4, 3) [ 0.78575368] [ 0.25717324]: class1 correct (0.99, 0.01)\n"
     ]
    }
   ],
   "source": [
    "simple_network = NeuralNetwork(no_of_in_nodes=2, \n",
    "                               no_of_out_nodes=2, \n",
    "                               no_of_hidden_nodes=2,\n",
    "                               learning_rate=0.6)\n",
    "    \n",
    "size_of_learn_sample = int(len(data)*0.9)\n",
    "learn_data = data[:size_of_learn_sample]\n",
    "test_data = data[-size_of_learn_sample:]\n",
    "print()\n",
    "for i in range(size_of_learn_sample):\n",
    "    point, label = learn_data[i][0], learn_data[i][1]\n",
    "    simple_network.train(point, label)\n",
    "    \n",
    "for i in range(size_of_learn_sample):\n",
    "    point, label = learn_data[i][0], learn_data[i][1]\n",
    "    cls1, cls2 =simple_network.run(point)\n",
    "    print(point, cls1, cls2, end=\": \")\n",
    "    if cls1 > cls2:\n",
    "        if label == (0.99, 0.01):\n",
    "            print(\"class1 correct\", label)\n",
    "        else:\n",
    "            print(\"class2 incorrect\", label)\n",
    "    else:\n",
    "        if label == (0.01, 0.99):\n",
    "            print(\"class1 correct\", label)\n",
    "        else:\n",
    "            print(\"class2 incorrect\", label)"
   ]
  },
  {
   "cell_type": "code",
   "execution_count": 21,
   "metadata": {
    "collapsed": true
   },
   "outputs": [],
   "source": [
    "# alternative activation function\n",
    "def ReLU(x):\n",
    "    return np.maximum(0.0, x)\n",
    "# derivation of relu\n",
    "def ReLU_derivation(x):\n",
    "    if x <= 0:\n",
    "        return 0\n",
    "    else:\n",
    "        return 1"
   ]
  },
  {
   "cell_type": "code",
   "execution_count": 22,
   "metadata": {},
   "outputs": [
    {
     "data": {
      "image/png": "[encoded data removed]",
      "text/plain": [
       "<matplotlib.figure.Figure at 0x22a0ae675c0>"
      ]
     },
     "metadata": {},
     "output_type": "display_data"
    }
   ],
   "source": [
    "import numpy as np\n",
    "import matplotlib.pyplot as plt\n",
    "X = np.linspace(-5, 5, 100)\n",
    "plt.plot(X, ReLU(X),'b')\n",
    "plt.xlabel('X Axis')\n",
    "plt.ylabel('Y Axis')\n",
    "plt.title('ReLU Function')\n",
    "plt.grid()\n",
    "plt.text(3, 0.8, r'$ReLU(x)=max(0.0, x)$', fontsize=16)\n",
    "plt.show()"
   ]
  },
  {
   "cell_type": "markdown",
   "metadata": {},
   "source": [
    "Neural Network with Bias Nodes"
   ]
  },
  {
   "cell_type": "code",
   "execution_count": 23,
   "metadata": {
    "collapsed": true
   },
   "outputs": [],
   "source": [
    "import numpy as np\n",
    "@np.vectorize\n",
    "def sigmoid(x):\n",
    "    return 1 / (1 + np.e ** -x)\n",
    "activation_function = sigmoid\n",
    "from scipy.stats import truncnorm\n",
    "def truncated_normal(mean=0, sd=1, low=0, upp=10):\n",
    "    return truncnorm(\n",
    "        (low - mean) / sd, (upp - mean) / sd, loc=mean, scale=sd)\n",
    "class NeuralNetwork:\n",
    "        \n",
    "    \n",
    "    def __init__(self, \n",
    "                 no_of_in_nodes, \n",
    "                 no_of_out_nodes, \n",
    "                 no_of_hidden_nodes,\n",
    "                 learning_rate,\n",
    "                 bias=None\n",
    "                ):  \n",
    "        self.no_of_in_nodes = no_of_in_nodes\n",
    "        self.no_of_out_nodes = no_of_out_nodes\n",
    "        \n",
    "        self.no_of_hidden_nodes = no_of_hidden_nodes\n",
    "            \n",
    "        self.learning_rate = learning_rate \n",
    "        self.bias = bias\n",
    "        self.create_weight_matrices()\n",
    "    \n",
    "        \n",
    "    \n",
    "    def create_weight_matrices(self):\n",
    "        \"\"\" A method to initialize the weight matrices of the neural \n",
    "        network with optional bias nodes\"\"\"\n",
    "        \n",
    "        bias_node = 1 if self.bias else 0\n",
    "        \n",
    "        rad = 1 / np.sqrt(self.no_of_in_nodes + bias_node)\n",
    "        X = truncated_normal(mean=0, sd=1, low=-rad, upp=rad)\n",
    "        self.weights_in_hidden = X.rvs((self.no_of_hidden_nodes, \n",
    "                                       self.no_of_in_nodes + bias_node))\n",
    "        rad = 1 / np.sqrt(self.no_of_hidden_nodes + bias_node)\n",
    "        X = truncated_normal(mean=0, sd=1, low=-rad, upp=rad)\n",
    "        self.weights_hidden_out = X.rvs((self.no_of_out_nodes, \n",
    "                                        self.no_of_hidden_nodes + bias_node))\n",
    "        \n",
    "        \n",
    "        \n",
    "    def train(self, input_vector, target_vector):\n",
    "        # input_vector and target_vector can be tuple, list or ndarray\n",
    "        \n",
    "        bias_node = 1 if self.bias else 0\n",
    "        if self.bias:\n",
    "            # adding bias node to the end of the inpuy_vector\n",
    "            input_vector = np.concatenate( (input_vector, [self.bias]) )\n",
    "                                    \n",
    "            \n",
    "        input_vector = np.array(input_vector, ndmin=2).T\n",
    "        target_vector = np.array(target_vector, ndmin=2).T\n",
    "        \n",
    "        output_vector1 = np.dot(self.weights_in_hidden, input_vector)\n",
    "        output_vector_hidden = activation_function(output_vector1)\n",
    "        \n",
    "        if self.bias:\n",
    "            output_vector_hidden = np.concatenate( (output_vector_hidden, [[self.bias]]) )\n",
    "        \n",
    "        \n",
    "        output_vector2 = np.dot(self.weights_hidden_out, output_vector_hidden)\n",
    "        output_vector_network = activation_function(output_vector2)\n",
    "        \n",
    "        output_errors = target_vector - output_vector_network\n",
    "        # update the weights:\n",
    "        tmp = output_errors * output_vector_network * (1.0 - output_vector_network)     \n",
    "        tmp = self.learning_rate  * np.dot(tmp, output_vector_hidden.T)\n",
    "        self.weights_hidden_out += tmp\n",
    "        # calculate hidden errors:\n",
    "        hidden_errors = np.dot(self.weights_hidden_out.T, output_errors)\n",
    "        # update the weights:\n",
    "        tmp = hidden_errors * output_vector_hidden * (1.0 - output_vector_hidden)\n",
    "        if self.bias:\n",
    "            x = np.dot(tmp, input_vector.T)[:-1,:]     # ???? last element cut off, ???\n",
    "        else:\n",
    "            x = np.dot(tmp, input_vector.T)\n",
    "        self.weights_in_hidden += self.learning_rate * x\n",
    "        \n",
    "       \n",
    "    \n",
    "    def run(self, input_vector):\n",
    "        # input_vector can be tuple, list or ndarray\n",
    "        \n",
    "        if self.bias:\n",
    "            # adding bias node to the end of the inpuy_vector\n",
    "            input_vector = np.concatenate( (input_vector, [1]) )\n",
    "        input_vector = np.array(input_vector, ndmin=2).T\n",
    "        output_vector = np.dot(self.weights_in_hidden, input_vector)\n",
    "        output_vector = activation_function(output_vector)\n",
    "        \n",
    "        if self.bias:\n",
    "            output_vector = np.concatenate( (output_vector, [[1]]) )\n",
    "            \n",
    "        output_vector = np.dot(self.weights_hidden_out, output_vector)\n",
    "        output_vector = activation_function(output_vector)\n",
    "    \n",
    "        return output_vector"
   ]
  },
  {
   "cell_type": "code",
   "execution_count": 24,
   "metadata": {},
   "outputs": [
    {
     "name": "stdout",
     "output_type": "stream",
     "text": [
      "[[(-1, -6), [0, 1]], [(-3, -4), [0, 1]], [(5.2, 5.9), [1, 0]], [(4.2, 5.3), [1, 0]], [(-2, -3.5), [0, 1]], [(4, 6), [1, 0]], [(3, 4), [1, 0]], [(-4.5, -4.6), [0, 1]], [(6, 5), [1, 0]], [(3, 7), [1, 0]]]\n"
     ]
    }
   ],
   "source": [
    "class1 = [(3, 4), (4.2, 5.3), (4, 3), (6, 5), (4, 6), (3.7, 5.8),\n",
    "          (3.2, 4.6), (5.2, 5.9), (5, 4), (7, 4), (3, 7), (4.3, 4.3) ] \n",
    "class2 = [(-3, -4), (-2, -3.5), (-1, -6), (-3, -4.3), (-4, -5.6), \n",
    "          (-3.2, -4.8), (-2.3, -4.3), (-2.7, -2.6), (-1.5, -3.6), \n",
    "          (-3.6, -5.6), (-4.5, -4.6), (-3.7, -5.8) ]\n",
    "labeled_data = []\n",
    "for el in class1:\n",
    "    labeled_data.append( [el, [1, 0]])\n",
    "for el in class2:\n",
    "    labeled_data.append([el, [0, 1]])\n",
    "  \n",
    "np.random.shuffle(labeled_data)\n",
    "print(labeled_data[:10])\n",
    "data, labels = zip(*labeled_data)\n",
    "labels = np.array(labels)\n",
    "data = np.array(data)"
   ]
  },
  {
   "cell_type": "code",
   "execution_count": 25,
   "metadata": {},
   "outputs": [
    {
     "name": "stdout",
     "output_type": "stream",
     "text": [
      "[0 1]\n",
      "[[ 0.08595971]\n",
      " [ 0.92111392]]\n",
      "[0 1]\n",
      "[[ 0.08480949]\n",
      " [ 0.92117517]]\n",
      "[1 0]\n",
      "[[ 0.93071657]\n",
      " [ 0.06605361]]\n",
      "[1 0]\n",
      "[[ 0.93027646]\n",
      " [ 0.06654558]]\n",
      "[0 1]\n",
      "[[ 0.09126281]\n",
      " [ 0.91496223]]\n",
      "[1 0]\n",
      "[[ 0.93048392]\n",
      " [ 0.06629664]]\n",
      "[1 0]\n",
      "[[ 0.92752046]\n",
      " [ 0.06950911]]\n",
      "[0 1]\n",
      "[[ 0.08194159]\n",
      " [ 0.9241254 ]]\n",
      "[1 0]\n",
      "[[ 0.93064125]\n",
      " [ 0.06615637]]\n",
      "[1 0]\n",
      "[[ 0.9304491 ]\n",
      " [ 0.06628179]]\n",
      "[0 1]\n",
      "[[ 0.08407164]\n",
      " [ 0.92197753]]\n",
      "[1 0]\n",
      "[[ 0.92979697]\n",
      " [ 0.06715651]]\n",
      "[0 1]\n",
      "[[ 0.09374217]\n",
      " [ 0.91154866]]\n",
      "[0 1]\n",
      "[[ 0.09453541]\n",
      " [ 0.91229327]]\n",
      "[0 1]\n",
      "[[ 0.08155934]\n",
      " [ 0.92458988]]\n",
      "[1 0]\n",
      "[[ 0.92893837]\n",
      " [ 0.06796729]]\n",
      "[0 1]\n",
      "[[ 0.08287809]\n",
      " [ 0.92322645]]\n",
      "[0 1]\n",
      "[[ 0.08160022]\n",
      " [ 0.92456338]]\n",
      "[1 0]\n",
      "[[ 0.92681967]\n",
      " [ 0.07057853]]\n",
      "[1 0]\n",
      "[[ 0.93029868]\n",
      " [ 0.06649242]]\n",
      "[0 1]\n",
      "[[ 0.08176708]\n",
      " [ 0.92438763]]\n",
      "[0 1]\n",
      "[[ 0.08589589]\n",
      " [ 0.92032483]]\n",
      "[1 0]\n",
      "[[ 0.92962983]\n",
      " [ 0.06730953]]\n",
      "[1 0]\n",
      "[[ 0.93050491]\n",
      " [ 0.06634252]]\n"
     ]
    }
   ],
   "source": [
    "simple_network = NeuralNetwork(no_of_in_nodes=2, \n",
    "                               no_of_out_nodes=2, \n",
    "                               no_of_hidden_nodes=10,\n",
    "                               learning_rate=0.1,\n",
    "                               bias=None)\n",
    "    \n",
    "for _ in range(20):\n",
    "    for i in range(len(data)):\n",
    "        simple_network.train(data[i], labels[i])\n",
    "for i in range(len(data)):\n",
    "    print(labels[i])\n",
    "    print(simple_network.run(data[i]))"
   ]
  },
  {
   "cell_type": "code",
   "execution_count": null,
   "metadata": {
    "collapsed": true
   },
   "outputs": [],
   "source": []
  }
 ],
 "metadata": {
  "kernelspec": {
   "display_name": "Python 3",
   "language": "python",
   "name": "python3"
  },
  "language_info": {
   "codemirror_mode": {
    "name": "ipython",
    "version": 3
   },
   "file_extension": ".py",
   "mimetype": "text/x-python",
   "name": "python",
   "nbconvert_exporter": "python",
   "pygments_lexer": "ipython3",
   "version": "3.6.3"
  }
 },
 "nbformat": 4,
 "nbformat_minor": 2
}
