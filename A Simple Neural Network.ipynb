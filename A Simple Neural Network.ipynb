{
 "cells": [
  {
   "cell_type": "raw",
   "metadata": {},
   "source": [
    "https://www.python-course.eu/neural_networks.php"
   ]
  },
  {
   "cell_type": "markdown",
   "metadata": {},
   "source": [
    "# A Simple Neural Network"
   ]
  },
  {
   "cell_type": "code",
   "execution_count": 7,
   "metadata": {},
   "outputs": [
    {
     "name": "stdout",
     "output_type": "stream",
     "text": [
      "[0 0] 0\n",
      "[0 1] 0\n",
      "[1 0] 0\n",
      "[1 1] 1\n"
     ]
    }
   ],
   "source": [
    "import numpy as np\n",
    "class Perceptron:\n",
    "    \n",
    "    def __init__(self, input_length, weights=None):\n",
    "        if weights is None:\n",
    "            self.weights = np.ones(input_length) * 0.5\n",
    "        else:\n",
    "            self.weights = weights\n",
    "        \n",
    "    @staticmethod\n",
    "    def unit_step_function(x):\n",
    "        if x > 0.5:\n",
    "            return 1\n",
    "        return 0\n",
    "        \n",
    "    def __call__(self, in_data):\n",
    "        weighted_input = self.weights * in_data\n",
    "        weighted_sum = weighted_input.sum()\n",
    "#         return weighted_sum\n",
    "        return Perceptron.unit_step_function(weighted_sum)\n",
    "    \n",
    "p = Perceptron(2, np.array([0.5, 0.5]))\n",
    "for x in [np.array([0, 0]), np.array([0, 1]), \n",
    "          np.array([1, 0]), np.array([1, 1])]:\n",
    "    y = p(np.array(x))\n",
    "    print(x, y)"
   ]
  },
  {
   "cell_type": "code",
   "execution_count": 10,
   "metadata": {},
   "outputs": [
    {
     "data": {
      "text/html": [
       "<img src=\"https://www.python-course.eu/images/line_separation.png\" width=\"300\" height=\"200\"/>"
      ],
      "text/plain": [
       "<IPython.core.display.Image object>"
      ]
     },
     "execution_count": 10,
     "metadata": {},
     "output_type": "execute_result"
    }
   ],
   "source": [
    "from IPython.display import Image\n",
    "Image(url= \"https://www.python-course.eu/images/line_separation.png\", width=300, height=200)"
   ]
  },
  {
   "cell_type": "code",
   "execution_count": 52,
   "metadata": {},
   "outputs": [
    {
     "name": "stdout",
     "output_type": "stream",
     "text": [
      "[('correct', 96), ('wrong', 4)]\n"
     ]
    }
   ],
   "source": [
    "import numpy as np\n",
    "from collections import Counter\n",
    "class Perceptron:\n",
    "    \n",
    "    def __init__(self, input_length, weights=None):\n",
    "        if weights==None:\n",
    "            self.weights = np.random.random((input_length)) * 2 - 1\n",
    "        self.learning_rate = 0.1\n",
    "        \n",
    "    @staticmethod\n",
    "    def unit_step_function(x):\n",
    "        if x < 0:\n",
    "            return 0\n",
    "        return 1\n",
    "        \n",
    "    def __call__(self, in_data):\n",
    "        weighted_input = self.weights * in_data\n",
    "        weighted_sum = weighted_input.sum()\n",
    "        return Perceptron.unit_step_function(weighted_sum)\n",
    "    \n",
    "    def adjust(self, \n",
    "               target_result, \n",
    "               calculated_result,\n",
    "               in_data):\n",
    "        error = target_result - calculated_result\n",
    "        for i in range(len(in_data)):\n",
    "            correction = error * in_data[i] *self.learning_rate\n",
    "            self.weights[i] += correction \n",
    "     \n",
    "def above_line(point, line_func):\n",
    "    x, y = point\n",
    "    if y > line_func(x):\n",
    "        return 1\n",
    "    else:\n",
    "        return 0\n",
    "  \n",
    "points = np.random.randint(1, 100, (100, 2))\n",
    "p = Perceptron(2)\n",
    "def lin1(x):\n",
    "    return  x + 4\n",
    "for point in points:\n",
    "    p.adjust(above_line(point, lin1), \n",
    "             p(point), \n",
    "             point)\n",
    "evaluation = Counter()\n",
    "for point in points:\n",
    "    if p(point) == above_line(point, lin1):\n",
    "        evaluation[\"correct\"] += 1\n",
    "    else:\n",
    "        evaluation[\"wrong\"] += 1\n",
    "print(evaluation.most_common())"
   ]
  },
  {
   "cell_type": "code",
   "execution_count": 53,
   "metadata": {},
   "outputs": [
    {
     "name": "stdout",
     "output_type": "stream",
     "text": [
      "0.896449644362\n"
     ]
    },
    {
     "data": {
      "image/png": "[encoded data removed]",
      "text/plain": [
       "<matplotlib.figure.Figure at 0x2c10cbfe668>"
      ]
     },
     "metadata": {},
     "output_type": "display_data"
    }
   ],
   "source": [
    "# the following line is only needed,\n",
    "# if you use \"ipython notebook\":\n",
    "%matplotlib inline \n",
    "from matplotlib import pyplot as plt\n",
    "cls = [[], []]\n",
    "for point in points:\n",
    "    cls[above_line(point, lin1)].append(tuple(point))\n",
    "colours = (\"r\", \"b\")\n",
    "for i in range(2):\n",
    "    X, Y = zip(*cls[i])\n",
    "    plt.scatter(X, Y, c=colours[i])\n",
    "    \n",
    "X = np.arange(-3, 120)\n",
    "    \n",
    "m = -p.weights[0] / p.weights[1]\n",
    "print(m)\n",
    "plt.plot(X, m*X, label=\"ANN line\")\n",
    "plt.plot(X, lin1(X), label=\"line1\")\n",
    "plt.legend()\n",
    "plt.show()"
   ]
  },
  {
   "cell_type": "code",
   "execution_count": 54,
   "metadata": {},
   "outputs": [
    {
     "data": {
      "image/png": "[encoded data removed]",
      "text/plain": [
       "<matplotlib.figure.Figure at 0x2c10d0356d8>"
      ]
     },
     "metadata": {},
     "output_type": "display_data"
    }
   ],
   "source": [
    "from matplotlib import pyplot as plt\n",
    "class1 = [(3, 4), (4.2, 5.3), (4, 3), (6, 5), (4, 6), (3.7, 5.8),\n",
    "          (3.2, 4.6), (5.2, 5.9), (5, 4), (7, 4), (3, 7), (4.3, 4.3) ] \n",
    "class2 = [(-3, -4), (-2, -3.5), (-1, -6), (-3, -4.3), (-4, -5.6), \n",
    "          (-3.2, -4.8), (-2.3, -4.3), (-2.7, -2.6), (-1.5, -3.6), \n",
    "          (-3.6, -5.6), (-4.5, -4.6), (-3.7, -5.8) ]\n",
    "X, Y = zip(*class1)\n",
    "plt.scatter(X, Y, c=\"r\")\n",
    "X, Y = zip(*class2)\n",
    "plt.scatter(X, Y, c=\"b\")\n",
    "plt.show()"
   ]
  },
  {
   "cell_type": "code",
   "execution_count": 55,
   "metadata": {},
   "outputs": [
    {
     "name": "stdout",
     "output_type": "stream",
     "text": [
      "1\n",
      "0\n",
      "[('correct', 12), ('wrong', 12)]\n"
     ]
    }
   ],
   "source": [
    "from itertools import chain\n",
    "p = Perceptron(2)\n",
    "def lin1(x):\n",
    "    return  x + 4\n",
    "for point in class1:\n",
    "    p.adjust(1, \n",
    "             p(point), \n",
    "             point)\n",
    "for point in class2:\n",
    "    p.adjust(0, \n",
    "             p(point), \n",
    "             point)\n",
    "    \n",
    "evaluation = Counter()\n",
    "for point in chain(class1, class2):\n",
    "    if p(point) == 1:\n",
    "        evaluation[\"correct\"] += 1\n",
    "    else:\n",
    "        evaluation[\"wrong\"] += 1\n",
    "        \n",
    "testpoints = [(3.9, 6.9), (-2.9, -5.9)]\n",
    "for point in testpoints:\n",
    "    print(p(point))\n",
    "        \n",
    "print(evaluation.most_common())"
   ]
  },
  {
   "cell_type": "code",
   "execution_count": 58,
   "metadata": {},
   "outputs": [
    {
     "data": {
      "image/png": "[encoded data removed]",
      "text/plain": [
       "<matplotlib.figure.Figure at 0x2c10e192080>"
      ]
     },
     "metadata": {},
     "output_type": "display_data"
    }
   ],
   "source": [
    "from matplotlib import pyplot as plt\n",
    "X, Y = zip(*class1)\n",
    "plt.scatter(X, Y, c=\"r\")\n",
    "X, Y = zip(*class2)\n",
    "plt.scatter(X, Y, c=\"b\")\n",
    "x = np.arange(-7, 10)\n",
    "y = 5*x + 10 \n",
    "m = -p.weights[0] / p.weights[1]\n",
    "plt.plot(x, m*x)\n",
    "plt.show()"
   ]
  },
  {
   "cell_type": "code",
   "execution_count": 62,
   "metadata": {},
   "outputs": [
    {
     "data": {
      "image/png": "[encoded data removed]",
      "text/plain": [
       "<matplotlib.figure.Figure at 0x2c10e31d3c8>"
      ]
     },
     "metadata": {},
     "output_type": "display_data"
    }
   ],
   "source": [
    "from matplotlib import pyplot as plt\n",
    "class1 = [(3, 4, 3), (4.2, 5.3, 2.5), (4, 3, 3.8), \n",
    "          (6, 5, 2.7), (4, 6, 2.9), (3.7, 5.8, 4.2),\n",
    "          (3.2, 4.6, 1.9), (5.2, 5.9, 2.7), (5, 4, 3.5), \n",
    "          (7, 4, 2.7), (3, 7, 3.1), (4.3, 4.3, 3.8) ] \n",
    "class2 = [(-3, -4, 7.6), (-2, -3.5, 6.9), (-1, -6, 8.6), \n",
    "          (-3, -4.3, 7.4), (-4, -5.6, 7.9), (-3.2, -4.8, 5.3),\n",
    "          (-2.3, -4.3, 8.1), (-2.7, -2.6, 7.3), (-1.5, -3.6, 7.8), \n",
    "          (-3.6, -5.6, 6.8), (-4.5, -4.6, 8.3), (-3.7, -5.8, 8.7) ]\n",
    "X, Y, Z = zip(*class1)\n",
    "plt.scatter(X, Y, Z, c=\"r\")\n",
    "X, Y, Z = zip(*class2)\n",
    "plt.scatter(X, Y, Z, c=\"b\")\n",
    "plt.show()"
   ]
  },
  {
   "cell_type": "code",
   "execution_count": 1,
   "metadata": {
    "collapsed": true
   },
   "outputs": [],
   "source": [
    "import numpy as np\n",
    "from matplotlib import pyplot as plt\n",
    "npoints = 50\n",
    "X, Y = [], []\n",
    "# class 0\n",
    "X.append(np.random.uniform(low=-2.5, high=2.3, size=(npoints,)) )\n",
    "Y.append(np.random.uniform(low=-1.7, high=2.8, size=(npoints,)))\n",
    "# class 1\n",
    "X.append(np.random.uniform(low=-7.2, high=-4.4, size=(npoints,)) )\n",
    "Y.append(np.random.uniform(low=3, high=6.5, size=(npoints,)))\n",
    "learnset = []\n",
    "for i in range(2):\n",
    "    # adding points of class i to learnset\n",
    "    points = zip(X[i], Y[i])\n",
    "    for p in points:\n",
    "        learnset.append((p, i))\n",
    "colours = [\"b\", \"r\"]\n",
    "for i in range(2):\n",
    "    plt.scatter(X[i], Y[i], c=colours[i])"
   ]
  },
  {
   "cell_type": "code",
   "execution_count": 4,
   "metadata": {},
   "outputs": [
    {
     "name": "stdout",
     "output_type": "stream",
     "text": [
      "[('correct', 68), ('wrong', 32)]\n",
      "1.50151920629\n"
     ]
    },
    {
     "data": {
      "image/png": "[encoded data removed]",
      "text/plain": [
       "<matplotlib.figure.Figure at 0x16f05759cf8>"
      ]
     },
     "metadata": {},
     "output_type": "display_data"
    }
   ],
   "source": [
    "import numpy as np\n",
    "from collections import Counter\n",
    "class Perceptron:\n",
    "    \n",
    "    def __init__(self, input_length, weights=None):\n",
    "        if weights==None:\n",
    "            self.weights = np.random.random((input_length)) * 2 - 1\n",
    "        self.learning_rate = 0.1\n",
    "        \n",
    "    @staticmethod\n",
    "    def unit_step_function(x):\n",
    "        if x < 0:\n",
    "            return 0\n",
    "        return 1\n",
    "        \n",
    "    def __call__(self, in_data):\n",
    "        weighted_input = self.weights * in_data\n",
    "        weighted_sum = weighted_input.sum()\n",
    "        return Perceptron.unit_step_function(weighted_sum)\n",
    "    \n",
    "    def adjust(self, \n",
    "               target_result, \n",
    "               calculated_result,\n",
    "               in_data):\n",
    "        error = target_result - calculated_result\n",
    "        for i in range(len(in_data)):\n",
    "            correction = error * in_data[i] *self.learning_rate\n",
    "            self.weights[i] += correction \n",
    "     \n",
    "  \n",
    "p = Perceptron(2)\n",
    "for point, label in learnset:\n",
    "    p.adjust(label, \n",
    "             p(point), \n",
    "             point)\n",
    "evaluation = Counter()\n",
    "for point, label in learnset:\n",
    "    if p(point) == label:\n",
    "        evaluation[\"correct\"] += 1\n",
    "    else:\n",
    "        evaluation[\"wrong\"] += 1\n",
    "print(evaluation.most_common())\n",
    "colours = [\"b\", \"r\"]\n",
    "for i in range(2):\n",
    "    plt.scatter(X[i], Y[i], c=colours[i])\n",
    "XR = np.arange(-8, 4)  \n",
    "m = -p.weights[0] / p.weights[1]\n",
    "print(m)\n",
    "plt.plot(XR, m*XR, label=\"decision boundary\")\n",
    "plt.legend()\n",
    "plt.show()"
   ]
  },
  {
   "cell_type": "code",
   "execution_count": 5,
   "metadata": {},
   "outputs": [
    {
     "name": "stdout",
     "output_type": "stream",
     "text": [
      "[('correct', 77), ('wrong', 23)]\n",
      "1.22435857625 1.17166880035\n"
     ]
    },
    {
     "data": {
      "image/png": "[encoded data removed]",
      "text/plain": [
       "<matplotlib.figure.Figure at 0x16f057e6320>"
      ]
     },
     "metadata": {},
     "output_type": "display_data"
    }
   ],
   "source": [
    "import numpy as np\n",
    "from collections import Counter\n",
    "class Perceptron:\n",
    "    \n",
    "    def __init__(self, input_length, weights=None):\n",
    "        if weights==None:\n",
    "            # input_length + 1 because bias needs a weight as well\n",
    "            self.weights = np.random.random((input_length + 1)) * 2 - 1\n",
    "        self.learning_rate = 0.05\n",
    "        self.bias = 1\n",
    "    \n",
    "    @staticmethod\n",
    "    def sigmoid_function(x):\n",
    "        res = 1 / (1 + np.power(np.e, -x))\n",
    "        return 0 if res < 0.5 else 1\n",
    "        \n",
    "    def __call__(self, in_data):\n",
    "        weighted_input = self.weights[:-1] * in_data\n",
    "        weighted_sum = weighted_input.sum() + self.bias *self.weights[-1]\n",
    "        return Perceptron.sigmoid_function(weighted_sum)\n",
    "    \n",
    "    def adjust(self, \n",
    "               target_result, \n",
    "               calculated_result,\n",
    "               in_data):\n",
    "        error = target_result - calculated_result\n",
    "        for i in range(len(in_data)):\n",
    "            correction = error * in_data[i]  *self.learning_rate\n",
    "            #print(\"weights: \", self.weights)\n",
    "            #print(target_result, calculated_result, in_data, error, correction)\n",
    "            self.weights[i] += correction \n",
    "        # correct the bias:\n",
    "        correction = error * self.bias * self.learning_rate\n",
    "        self.weights[-1] += correction \n",
    "     \n",
    "  \n",
    "p = Perceptron(2)\n",
    "for point, label in learnset:\n",
    "    p.adjust(label, \n",
    "             p(point), \n",
    "             point)\n",
    "evaluation = Counter()\n",
    "for point, label in learnset:\n",
    "    if p(point) == label:\n",
    "        evaluation[\"correct\"] += 1\n",
    "    else:\n",
    "        evaluation[\"wrong\"] += 1\n",
    "print(evaluation.most_common())\n",
    "colours = [\"b\", \"r\"]\n",
    "for i in range(2):\n",
    "    plt.scatter(X[i], Y[i], c=colours[i])\n",
    "XR = np.arange(-8, 4)  \n",
    "m = -p.weights[0] / p.weights[1]\n",
    "b = -p.weights[-1]/p.weights[1]\n",
    "print(m, b)\n",
    "plt.plot(XR, m*XR + b, label=\"decision boundary\")\n",
    "plt.legend()\n",
    "plt.show()"
   ]
  },
  {
   "cell_type": "code",
   "execution_count": null,
   "metadata": {
    "collapsed": true
   },
   "outputs": [],
   "source": []
  }
 ],
 "metadata": {
  "kernelspec": {
   "display_name": "Python 3",
   "language": "python",
   "name": "python3"
  },
  "language_info": {
   "codemirror_mode": {
    "name": "ipython",
    "version": 3
   },
   "file_extension": ".py",
   "mimetype": "text/x-python",
   "name": "python",
   "nbconvert_exporter": "python",
   "pygments_lexer": "ipython3",
   "version": "3.6.3"
  }
 },
 "nbformat": 4,
 "nbformat_minor": 2
}
