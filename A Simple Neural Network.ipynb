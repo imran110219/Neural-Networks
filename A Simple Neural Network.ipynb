{
 "cells": [
  {
   "cell_type": "raw",
   "metadata": {},
   "source": [
    "https://www.python-course.eu/neural_networks.php"
   ]
  },
  {
   "cell_type": "markdown",
   "metadata": {},
   "source": [
    "# A Simple Neural Network"
   ]
  },
  {
   "cell_type": "code",
   "execution_count": 7,
   "metadata": {},
   "outputs": [
    {
     "name": "stdout",
     "output_type": "stream",
     "text": [
      "[0 0] 0\n",
      "[0 1] 0\n",
      "[1 0] 0\n",
      "[1 1] 1\n"
     ]
    }
   ],
   "source": [
    "import numpy as np\n",
    "class Perceptron:\n",
    "    \n",
    "    def __init__(self, input_length, weights=None):\n",
    "        if weights is None:\n",
    "            self.weights = np.ones(input_length) * 0.5\n",
    "        else:\n",
    "            self.weights = weights\n",
    "        \n",
    "    @staticmethod\n",
    "    def unit_step_function(x):\n",
    "        if x > 0.5:\n",
    "            return 1\n",
    "        return 0\n",
    "        \n",
    "    def __call__(self, in_data):\n",
    "        weighted_input = self.weights * in_data\n",
    "        weighted_sum = weighted_input.sum()\n",
    "#         return weighted_sum\n",
    "        return Perceptron.unit_step_function(weighted_sum)\n",
    "    \n",
    "p = Perceptron(2, np.array([0.5, 0.5]))\n",
    "for x in [np.array([0, 0]), np.array([0, 1]), \n",
    "          np.array([1, 0]), np.array([1, 1])]:\n",
    "    y = p(np.array(x))\n",
    "    print(x, y)"
   ]
  },
  {
   "cell_type": "code",
   "execution_count": 10,
   "metadata": {},
   "outputs": [
    {
     "data": {
      "text/html": [
       "<img src=\"https://www.python-course.eu/images/line_separation.png\" width=\"300\" height=\"200\"/>"
      ],
      "text/plain": [
       "<IPython.core.display.Image object>"
      ]
     },
     "execution_count": 10,
     "metadata": {},
     "output_type": "execute_result"
    }
   ],
   "source": [
    "from IPython.display import Image\n",
    "Image(url= \"https://www.python-course.eu/images/line_separation.png\", width=300, height=200)"
   ]
  },
  {
   "cell_type": "code",
   "execution_count": 15,
   "metadata": {},
   "outputs": [
    {
     "name": "stdout",
     "output_type": "stream",
     "text": [
      "[ 0.27237318 -0.24958148]\n",
      "[('correct', 95), ('wrong', 5)]\n"
     ]
    }
   ],
   "source": [
    "import numpy as np\n",
    "from collections import Counter\n",
    "class Perceptron:\n",
    "    \n",
    "    def __init__(self, input_length, weights=None):\n",
    "        if weights==None:\n",
    "            self.weights = np.random.random((input_length)) * 2 - 1\n",
    "        self.learning_rate = 0.1\n",
    "        \n",
    "    @staticmethod\n",
    "    def unit_step_function(x):\n",
    "        if x < 0:\n",
    "            return 0\n",
    "        return 1\n",
    "        \n",
    "    def __call__(self, in_data):\n",
    "        weighted_input = self.weights * in_data\n",
    "        weighted_sum = weighted_input.sum()\n",
    "        return Perceptron.unit_step_function(weighted_sum)\n",
    "    \n",
    "    def adjust(self, \n",
    "               target_result, \n",
    "               calculated_result,\n",
    "               in_data):\n",
    "        error = target_result - calculated_result\n",
    "        for i in range(len(in_data)):\n",
    "            correction = error * in_data[i] *self.learning_rate\n",
    "            self.weights[i] += correction \n",
    "     \n",
    "def above_line(point, line_func):\n",
    "    x, y = point\n",
    "    if y > line_func(x):\n",
    "        return 1\n",
    "    else:\n",
    "        return 0\n",
    "  \n",
    "points = np.random.randint(1, 100, (100, 2))\n",
    "p = Perceptron(2)\n",
    "def lin1(x):\n",
    "    return  x + 4\n",
    "for point in points:\n",
    "    p.adjust(above_line(point, lin1), \n",
    "             p(point), \n",
    "             point)\n",
    "evaluation = Counter()\n",
    "for point in points:\n",
    "    if p(point) == above_line(point, lin1):\n",
    "        evaluation[\"correct\"] += 1\n",
    "    else:\n",
    "        evaluation[\"wrong\"] += 1\n",
    "print(evaluation.most_common())"
   ]
  },
  {
   "cell_type": "code",
   "execution_count": null,
   "metadata": {
    "collapsed": true
   },
   "outputs": [],
   "source": []
  }
 ],
 "metadata": {
  "kernelspec": {
   "display_name": "Python 3",
   "language": "python",
   "name": "python3"
  },
  "language_info": {
   "codemirror_mode": {
    "name": "ipython",
    "version": 3
   },
   "file_extension": ".py",
   "mimetype": "text/x-python",
   "name": "python",
   "nbconvert_exporter": "python",
   "pygments_lexer": "ipython3",
   "version": "3.6.3"
  }
 },
 "nbformat": 4,
 "nbformat_minor": 2
}
